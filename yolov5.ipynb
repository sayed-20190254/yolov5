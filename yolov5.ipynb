{
 "cells": [
  {
   "cell_type": "code",
   "execution_count": 1,
   "id": "aef4fcb9",
   "metadata": {},
   "outputs": [
    {
     "name": "stdout",
     "output_type": "stream",
     "text": [
      "[WinError 2] The system cannot find the file specified: 'yolov5'\n",
      "C:\\Users\\dell\\Apy\n"
     ]
    },
    {
     "name": "stderr",
     "output_type": "stream",
     "text": [
      "'git' is not recognized as an internal or external command,\n",
      "operable program or batch file.\n",
      "'git' is not recognized as an internal or external command,\n",
      "operable program or batch file.\n"
     ]
    }
   ],
   "source": [
    "# clone YOLOv5 repository\n",
    "!git clone https://github.com/ultralytics/yolov5  # clone repo\n",
    "%cd yolov5\n",
    "!git reset --hard 886f1c03d839575afecb059accf74296fad395b6"
   ]
  },
  {
   "cell_type": "code",
   "execution_count": null,
   "id": "20ab196a",
   "metadata": {},
   "outputs": [],
   "source": [
    "# install dependencies as necessary\n",
    "!pip install -qr requirements.txt  # install dependencies (ignore errors)\n",
    "import torch\n",
    "\n",
    "from IPython.display import Image, clear_output  # to display images\n",
    "from utils.google_utils import gdrive_download  # to download models/datasets\n",
    "\n",
    "# clear_output()\n",
    "print('Setup complete. Using torch %s %s' % (torch.__version__, torch.cuda.get_device_properties(0) if torch.cuda.is_available() else 'CPU'))"
   ]
  },
  {
   "cell_type": "code",
   "execution_count": null,
   "id": "b447b0f6",
   "metadata": {},
   "outputs": [],
   "source": [
    "#follow the link below to get your download code from from Roboflow\n",
    "!pip install -q roboflow\n",
    "from roboflow import Roboflow\n",
    "rf = Roboflow(model_format=\"yolov5\", notebook=\"roboflow-yolov5\")"
   ]
  },
  {
   "cell_type": "code",
   "execution_count": null,
   "id": "88b6db46",
   "metadata": {},
   "outputs": [],
   "source": [
    "%cd /content/yolov5\n",
    "#after following the link above, recieve python code with these fields filled in\n",
    "#from roboflow import Roboflow\n",
    "#rf = Roboflow(api_key=\"YOUR API KEY HERE\")\n",
    "#project = rf.workspace().project(\"YOUR PROJECT\")\n",
    "#dataset = project.version(\"YOUR VERSION\").download(\"yolov5\")"
   ]
  },
  {
   "cell_type": "code",
   "execution_count": null,
   "id": "b0777d9f",
   "metadata": {},
   "outputs": [],
   "source": [
    "# this is the YAML file Roboflow wrote for us that we're loading into this notebook with our data\n",
    "%cat /content/yolov5/data/coco.yaml\n"
   ]
  },
  {
   "cell_type": "code",
   "execution_count": null,
   "id": "6425f755",
   "metadata": {},
   "outputs": [],
   "source": [
    "# define number of classes based on YAML\n",
    "import yaml\n",
    "with open( \"/content/yolov5/data/coco.yaml\", 'r') as stream:\n",
    "    num_classes = str(yaml.safe_load(stream)['nc'])"
   ]
  },
  {
   "cell_type": "code",
   "execution_count": null,
   "id": "1ea218b9",
   "metadata": {},
   "outputs": [],
   "source": [
    "#this is the model configuration we will use for our tutorial \n",
    "%cat /content/yolov5/models/yolov5s.yaml"
   ]
  },
  {
   "cell_type": "code",
   "execution_count": null,
   "id": "8547c850",
   "metadata": {},
   "outputs": [],
   "source": [
    "#customize iPython writefile so we can write variables\n",
    "from IPython.core.magic import register_line_cell_magic\n",
    "\n",
    "@register_line_cell_magic\n",
    "def writetemplate(line, cell):\n",
    "    with open(line, 'w') as f:\n",
    "        f.write(cell.format(**globals()))"
   ]
  },
  {
   "cell_type": "code",
   "execution_count": null,
   "id": "1af143f0",
   "metadata": {},
   "outputs": [],
   "source": [
    "%%writetemplate /content/yolov5/models/custom_yolov5s.yaml\n",
    "\n",
    "# parameters\n",
    "nc: {num_classes}  # number of classes\n",
    "depth_multiple: 0.33  # model depth multiple\n",
    "width_multiple: 0.50  # layer channel multiple\n",
    "\n",
    "# anchors\n",
    "anchors:\n",
    "  - [10,13, 16,30, 33,23]  # P3/8\n",
    "  - [30,61, 62,45, 59,119]  # P4/16\n",
    "  - [116,90, 156,198, 373,326]  # P5/32\n",
    "\n",
    "# YOLOv5 backbone\n",
    "backbone:\n",
    "  # [from, number, module, args]\n",
    "  [[-1, 1, Focus, [64, 3]],  # 0-P1/2\n",
    "   [-1, 1, Conv, [128, 3, 2]],  # 1-P2/4\n",
    "   [-1, 3, BottleneckCSP, [128]],\n",
    "   [-1, 1, Conv, [256, 3, 2]],  # 3-P3/8\n",
    "   [-1, 9, BottleneckCSP, [256]],\n",
    "   [-1, 1, Conv, [512, 3, 2]],  # 5-P4/16\n",
    "   [-1, 9, BottleneckCSP, [512]],\n",
    "   [-1, 1, Conv, [1024, 3, 2]],  # 7-P5/32\n",
    "   [-1, 1, SPP, [1024, [5, 9, 13]]],\n",
    "   [-1, 3, BottleneckCSP, [1024, False]],  # 9\n",
    "  ]\n",
    "\n",
    "# YOLOv5 head\n",
    "head:\n",
    "  [[-1, 1, Conv, [512, 1, 1]],\n",
    "   [-1, 1, nn.Upsample, [None, 2, 'nearest']],\n",
    "   [[-1, 6], 1, Concat, [1]],  # cat backbone P4\n",
    "   [-1, 3, BottleneckCSP, [512, False]],  # 13\n",
    "\n",
    "   [-1, 1, Conv, [256, 1, 1]],\n",
    "   [-1, 1, nn.Upsample, [None, 2, 'nearest']],\n",
    "   [[-1, 4], 1, Concat, [1]],  # cat backbone P3\n",
    "   [-1, 3, BottleneckCSP, [256, False]],  # 17 (P3/8-small)\n",
    "\n",
    "   [-1, 1, Conv, [256, 3, 2]],\n",
    "   [[-1, 14], 1, Concat, [1]],  # cat head P4\n",
    "   [-1, 3, BottleneckCSP, [512, False]],  # 20 (P4/16-medium)\n",
    "\n",
    "   [-1, 1, Conv, [512, 3, 2]],\n",
    "   [[-1, 10], 1, Concat, [1]],  # cat head P5\n",
    "   [-1, 3, BottleneckCSP, [1024, False]],  # 23 (P5/32-large)\n",
    "\n",
    "   [[17, 20, 23], 1, Detect, [nc, anchors]],  # Detect(P3, P4, P5)\n",
    "  ]"
   ]
  },
  {
   "cell_type": "code",
   "execution_count": null,
   "id": "803b204d",
   "metadata": {},
   "outputs": [],
   "source": [
    "# Train YOLOv5s on COCO128 for 3 epochs\n",
    "%cd /content/yolov5\n",
    "!python train.py --img 416 --batch 16 --epochs 10 --data /content/yolov5/data/coco128.yaml --cfg /content/yolov5/models/custom_yolov5s.yaml  --weights '' --cache"
   ]
  },
  {
   "cell_type": "code",
   "execution_count": null,
   "id": "73168ff0",
   "metadata": {},
   "outputs": [],
   "source": [
    "# Start tensorboard\n",
    "# Launch after you have started training\n",
    "# logs save in the folder \"runs\"\n",
    "%load_ext tensorboard\n",
    "%tensorboard --logdir runs"
   ]
  },
  {
   "cell_type": "code",
   "execution_count": null,
   "id": "0a441f3c",
   "metadata": {},
   "outputs": [],
   "source": [
    "# we can also output some older school graphs if the tensor board isn't working for whatever reason... \n",
    "from utils.plots import plot_results  # plot results.txt as results.png\n",
    "Image(filename='/content/yolov5/runs/train/exp/results.png', width=1000)  # view results.png"
   ]
  },
  {
   "cell_type": "code",
   "execution_count": null,
   "id": "8738610a",
   "metadata": {},
   "outputs": [],
   "source": [
    "# first, display our ground truth data\n",
    "print(\"GROUND TRUTH TRAINING DATA:\")\n",
    "Image(filename='/content/yolov5/runs/train/exp/train_batch0.jpg', width=900)"
   ]
  },
  {
   "cell_type": "code",
   "execution_count": null,
   "id": "6d2e5f11",
   "metadata": {},
   "outputs": [],
   "source": [
    "# print out an augmented training example\n",
    "print(\"GROUND TRUTH AUGMENTED TRAINING DATA:\")\n",
    "Image(filename='/content/yolov5/runs/train/exp/train_batch1.jpg', width=900)"
   ]
  },
  {
   "cell_type": "code",
   "execution_count": null,
   "id": "82ce9828",
   "metadata": {},
   "outputs": [],
   "source": [
    "# trained weights are saved by default in our weights folder\n",
    "%ls runs/\n",
    "%ls runs/train/yolov5s_results/weights\n",
    "# Run YOLOv5x on COCO test\n",
    "!python test.py --weights /content/yolov5/runs/train/exp/weights/best.pt --data /content/yolov5/data/coco.yaml  --img 416 --iou 0.65 "
   ]
  },
  {
   "cell_type": "code",
   "execution_count": null,
   "id": "904cf87a",
   "metadata": {},
   "outputs": [],
   "source": [
    "# when we ran this, we saw .007 second inference time. That is 140 FPS on a TESLA P100!\n",
    "# use the best weights!\n",
    "%cd /content/yolov5/\n",
    "!python detect.py --weights /content/yolov5/runs/train/exp/weights/best.pt --img 416 --conf 0.4 --source /content/yolov5/data/images"
   ]
  },
  {
   "cell_type": "code",
   "execution_count": null,
   "id": "3493732f",
   "metadata": {},
   "outputs": [],
   "source": [
    "#display inference on ALL test images\n",
    "#this looks much better with longer training above\n",
    "\n",
    "import glob\n",
    "from IPython.display import Image, display\n",
    "\n",
    "for imageName in glob.glob('/content/yolov5/runs/test/exp/*.jpg'): #assuming JPG\n",
    "    display(Image(filename=imageName))\n",
    "    print(\"\\n\")"
   ]
  },
  {
   "cell_type": "code",
   "execution_count": null,
   "id": "4207fc8d",
   "metadata": {},
   "outputs": [],
   "source": []
  }
 ],
 "metadata": {
  "kernelspec": {
   "display_name": "Python 3",
   "language": "python",
   "name": "python3"
  },
  "language_info": {
   "codemirror_mode": {
    "name": "ipython",
    "version": 3
   },
   "file_extension": ".py",
   "mimetype": "text/x-python",
   "name": "python",
   "nbconvert_exporter": "python",
   "pygments_lexer": "ipython3",
   "version": "3.8.8"
  }
 },
 "nbformat": 4,
 "nbformat_minor": 5
}
